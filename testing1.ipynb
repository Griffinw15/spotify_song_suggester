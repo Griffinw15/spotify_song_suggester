{
 "cells": [
  {
   "cell_type": "code",
   "execution_count": 1,
   "metadata": {},
   "outputs": [],
   "source": [
    "import os\n",
    "from dotenv import load_dotenv\n",
    "import spotipy\n",
    "from spotipy.oauth2 import SpotifyClientCredentials\n",
    "\n",
    "\n",
    "\n",
    "\n",
    "load_dotenv()\n",
    "\n",
    "cid = \"42dd6ceb57674e5dbb3c19060624e359\"\n",
    "secret = \"c3d90e116495444286098ff9f62c65bc\"\n",
    "client_credentials_manager = SpotifyClientCredentials(client_id=cid, client_secret=secret)\n",
    "sp = spotipy.Spotify(client_credentials_manager\n",
    "=\n",
    "client_credentials_manager)"
   ]
  },
  {
   "cell_type": "code",
   "execution_count": 8,
   "metadata": {},
   "outputs": [],
   "source": [
    "artist_name = []\n",
    "track_name = []\n",
    "album_name = []\n",
    "popularity = []\n",
    "track_id = []\n",
    "artist_id = []\n",
    "audio_features = []\n",
    "\n",
    "for i in range(0,10000,50):\n",
    "    track_results = sp.search(q='year:2019', type='track', limit=50)\n",
    "    for i, t in enumerate(track_results['tracks']['items']):\n",
    "        artist_name.append(t['artists'][0]['name'])\n",
    "        track_name.append(t['name'])\n",
    "        artist_id.append(t['artists'][0]['id'])\n",
    "        track_id.append(t['id'])\n",
    "        popularity.append(t['popularity'])\n",
    "        album_name.append(t['album']['name'])\n",
    "        year.append(t['2019'])\n"
   ]
  },
  {
   "cell_type": "code",
   "execution_count": 9,
   "metadata": {},
   "outputs": [],
   "source": [
    "for x in range(0, 10000):\n",
    "    audio_features.append(sp.audio_features(track_id[x]))"
   ]
  },
  {
   "cell_type": "code",
   "execution_count": 13,
   "metadata": {},
   "outputs": [
    {
     "output_type": "execute_result",
     "data": {
      "text/plain": "[{'danceability': 0.596,\n  'energy': 0.552,\n  'key': 0,\n  'loudness': -10.278,\n  'mode': 0,\n  'speechiness': 0.097,\n  'acousticness': 0.0765,\n  'instrumentalness': 0.334,\n  'liveness': 0.104,\n  'valence': 0.112,\n  'tempo': 97.949,\n  'type': 'audio_features',\n  'id': '6zeeWid2sgw4lap2jV61PZ',\n  'uri': 'spotify:track:6zeeWid2sgw4lap2jV61PZ',\n  'track_href': 'https://api.spotify.com/v1/tracks/6zeeWid2sgw4lap2jV61PZ',\n  'analysis_url': 'https://api.spotify.com/v1/audio-analysis/6zeeWid2sgw4lap2jV61PZ',\n  'duration_ms': 229320,\n  'time_signature': 4}]"
     },
     "metadata": {},
     "execution_count": 13
    }
   ],
   "source": [
    "audio_features[9999]\n"
   ]
  },
  {
   "cell_type": "code",
   "execution_count": 4,
   "metadata": {},
   "outputs": [
    {
     "output_type": "execute_result",
     "data": {
      "text/plain": "[{'danceability': 0.784,\n  'energy': 0.43,\n  'key': 10,\n  'loudness': -8.756,\n  'mode': 0,\n  'speechiness': 0.0364,\n  'acousticness': 0.123,\n  'instrumentalness': 0,\n  'liveness': 0.0887,\n  'valence': 0.236,\n  'tempo': 127.087,\n  'type': 'audio_features',\n  'id': '4TnjEaWOeW0eKTKIEvJyCa',\n  'uri': 'spotify:track:4TnjEaWOeW0eKTKIEvJyCa',\n  'track_href': 'https://api.spotify.com/v1/tracks/4TnjEaWOeW0eKTKIEvJyCa',\n  'analysis_url': 'https://api.spotify.com/v1/audio-analysis/4TnjEaWOeW0eKTKIEvJyCa',\n  'duration_ms': 159382,\n  'time_signature': 4}]"
     },
     "metadata": {},
     "execution_count": 4
    }
   ],
   "source": [
    "\n",
    "\n",
    "sp.audio_features(track_id[0])"
   ]
  },
  {
   "cell_type": "code",
   "execution_count": null,
   "metadata": {},
   "outputs": [],
   "source": [
    "import pandas as pd\n",
    "track_dataframe = pd.DataFrame({'artist_name' : artist_name, 'artist_id': artist_id, 'track_name' : track_name, 'track_id' : track_id, 'popularity' : popularity})\n",
    "print(track_dataframe.shape)\n",
    "track_dataframe.head()"
   ]
  },
  {
   "cell_type": "code",
   "execution_count": null,
   "metadata": {},
   "outputs": [],
   "source": [
    "track_results['tracks']['items'][1]['artists'][0]['name']"
   ]
  }
 ],
 "metadata": {
  "language_info": {
   "codemirror_mode": {
    "name": "ipython",
    "version": 3
   },
   "file_extension": ".py",
   "mimetype": "text/x-python",
   "name": "python",
   "nbconvert_exporter": "python",
   "pygments_lexer": "ipython3",
   "version": "3.7.6-final"
  },
  "orig_nbformat": 2,
  "kernelspec": {
   "name": "python3",
   "display_name": "Python 3"
  }
 },
 "nbformat": 4,
 "nbformat_minor": 2
}